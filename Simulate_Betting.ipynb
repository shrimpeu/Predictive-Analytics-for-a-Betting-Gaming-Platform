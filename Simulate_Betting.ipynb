{
 "cells": [
  {
   "cell_type": "code",
   "execution_count": 25,
   "id": "0b44b7cf-07d1-4d90-b160-11d4a624388e",
   "metadata": {},
   "outputs": [],
   "source": [
    "import numpy as np\n",
    "import pandas as pd\n",
    "import joblib"
   ]
  },
  {
   "cell_type": "code",
   "execution_count": 26,
   "id": "d66f1bcd-13ab-429a-bd23-98b8e70bb529",
   "metadata": {},
   "outputs": [],
   "source": [
    "# Load the saved splits\n",
    "X_test = joblib.load('X_test.pkl')\n",
    "y_test = joblib.load('y_test.pkl')"
   ]
  },
  {
   "cell_type": "code",
   "execution_count": 27,
   "id": "88ad7fde-3e81-43b5-b807-45e3880a7a42",
   "metadata": {},
   "outputs": [
    {
     "data": {
      "text/plain": [
       "<bound method NDFrame.head of        HomeWinStreak  AwayWinStreak  EFG_AWAY  EFG_HOME  FG_PCT_HOME  \\\n",
       "15073              3              0  0.390110  0.558442        0.506   \n",
       "4338               3              0  0.459302  0.575000        0.525   \n",
       "1981               0              0  0.458333  0.563830        0.521   \n",
       "9119               0              0  0.608434  0.673077        0.603   \n",
       "5562               0              0  0.614943  0.613333        0.547   \n",
       "...              ...            ...       ...       ...          ...   \n",
       "10057              0              0  0.494565  0.726744        0.651   \n",
       "1740               0              1  0.511494  0.506098        0.439   \n",
       "1957               1              0  0.434783  0.483516        0.462   \n",
       "16635              0              2  0.500000  0.421053        0.368   \n",
       "11505              1              0  0.415730  0.488636        0.466   \n",
       "\n",
       "       FG_PCT_AWAY  HomeSpread_AtClose  AwayML_Prob  HomeML_Prob  \\\n",
       "15073        0.363               -11.0     0.098302     0.993907   \n",
       "4338         0.419                -1.0     0.492805     0.785027   \n",
       "1981         0.405                -1.0     0.500000     0.780130   \n",
       "9119         0.518                 0.0     0.770097     0.770097   \n",
       "5562         0.552                -4.0     0.428537     0.833662   \n",
       "...            ...                 ...          ...          ...   \n",
       "10057        0.435                -9.5     0.133443     0.976836   \n",
       "1740         0.460                 1.0     0.780130     0.500000   \n",
       "1957         0.402                -7.0     0.308764     0.904220   \n",
       "16635        0.451                -3.5     0.456934     0.808318   \n",
       "11505        0.382                -5.0     0.393712     0.856252   \n",
       "\n",
       "       FG3_PCT_HOME  FG3_PCT_AWAY  AST_HOME  AST_AWAY  AST_TOV_RATIO_AWAY  \\\n",
       "15073         0.364         0.333      28.0      15.0            1.363636   \n",
       "4338          0.333         0.333      24.0      20.0            1.000000   \n",
       "1981          0.421         0.333      28.0      17.0            1.888889   \n",
       "9119          0.524         0.333      30.0      26.0            4.333333   \n",
       "5562          0.500         0.550      26.0      30.0            1.875000   \n",
       "...             ...           ...       ...       ...                 ...   \n",
       "10057         0.464         0.367      41.0      31.0            1.937500   \n",
       "1740          0.440         0.529      21.0      21.0            1.050000   \n",
       "1957          0.190         0.222      29.0      21.0            1.312500   \n",
       "16635         0.345         0.360      18.0      25.0            1.470588   \n",
       "11505         0.235         0.214      17.0      14.0            0.700000   \n",
       "\n",
       "       AST_TOV_RATIO_HOME  Home_PTS_RollAvg  Away_PTS_RollAvg  \n",
       "15073            1.647059              92.6              85.2  \n",
       "4338             1.090909             115.6             105.0  \n",
       "1981             5.599999             103.6              96.2  \n",
       "9119             2.142857             110.8             107.4  \n",
       "5562             1.368421              95.6             104.6  \n",
       "...                   ...               ...               ...  \n",
       "10057            3.153846             105.4              98.8  \n",
       "1740             1.500000              99.6             106.2  \n",
       "1957             3.222222              89.6              95.6  \n",
       "16635            1.800000             100.6             101.2  \n",
       "11505            1.214286              98.2             102.2  \n",
       "\n",
       "[3423 rows x 17 columns]>"
      ]
     },
     "execution_count": 27,
     "metadata": {},
     "output_type": "execute_result"
    }
   ],
   "source": [
    "X_test.head"
   ]
  },
  {
   "cell_type": "code",
   "execution_count": 28,
   "id": "61ef555f-ce4e-403f-8cd0-f244434dba4b",
   "metadata": {},
   "outputs": [
    {
     "data": {
      "text/plain": [
       "<bound method NDFrame.head of 15073    1\n",
       "4338     1\n",
       "1981     1\n",
       "9119     1\n",
       "5562     0\n",
       "        ..\n",
       "10057    1\n",
       "1740     0\n",
       "1957     1\n",
       "16635    0\n",
       "11505    1\n",
       "Name: HomeWin, Length: 3423, dtype: int64>"
      ]
     },
     "execution_count": 28,
     "metadata": {},
     "output_type": "execute_result"
    }
   ],
   "source": [
    "y_test.head"
   ]
  },
  {
   "cell_type": "code",
   "execution_count": 29,
   "id": "c85be6a7-4983-4571-879e-729868860e67",
   "metadata": {},
   "outputs": [],
   "source": [
    "# Load the saved logistic regression model\n",
    "log_model = joblib.load('logistic_regression_model.pkl')"
   ]
  },
  {
   "cell_type": "code",
   "execution_count": 30,
   "id": "b2831e16-3633-4295-afa2-1f581f960d80",
   "metadata": {},
   "outputs": [
    {
     "ename": "ValueError",
     "evalue": "The feature names should match those that were passed during fit.\nFeature names unseen at fit time:\n- AST_TOV_RATIO_AWAY\n- AST_TOV_RATIO_HOME\nFeature names seen at fit time, yet now missing:\n- DREB_AWAY\n- DREB_HOME\n- Defensive_Efficiency_AWAY\n- Defensive_Efficiency_HOME\n",
     "output_type": "error",
     "traceback": [
      "\u001b[1;31m---------------------------------------------------------------------------\u001b[0m",
      "\u001b[1;31mValueError\u001b[0m                                Traceback (most recent call last)",
      "Cell \u001b[1;32mIn[30], line 2\u001b[0m\n\u001b[0;32m      1\u001b[0m \u001b[38;5;66;03m# Generate predictions using the model on the test data\u001b[39;00m\n\u001b[1;32m----> 2\u001b[0m predicted_probabilities \u001b[38;5;241m=\u001b[39m \u001b[43mlog_model\u001b[49m\u001b[38;5;241;43m.\u001b[39;49m\u001b[43mpredict_proba\u001b[49m\u001b[43m(\u001b[49m\u001b[43mX_test\u001b[49m\u001b[43m)\u001b[49m[:, \u001b[38;5;241m1\u001b[39m]  \u001b[38;5;66;03m# Get probabilities for the positive class\u001b[39;00m\n",
      "File \u001b[1;32mD:\\Projects\\Github Repo\\Predictive-Analytics-for-a-Betting-Gaming-Platform\\laminavenv\\Lib\\site-packages\\sklearn\\linear_model\\_logistic.py:1431\u001b[0m, in \u001b[0;36mLogisticRegression.predict_proba\u001b[1;34m(self, X)\u001b[0m\n\u001b[0;32m   1423\u001b[0m ovr \u001b[38;5;241m=\u001b[39m \u001b[38;5;28mself\u001b[39m\u001b[38;5;241m.\u001b[39mmulti_class \u001b[38;5;129;01min\u001b[39;00m [\u001b[38;5;124m\"\u001b[39m\u001b[38;5;124movr\u001b[39m\u001b[38;5;124m\"\u001b[39m, \u001b[38;5;124m\"\u001b[39m\u001b[38;5;124mwarn\u001b[39m\u001b[38;5;124m\"\u001b[39m] \u001b[38;5;129;01mor\u001b[39;00m (\n\u001b[0;32m   1424\u001b[0m     \u001b[38;5;28mself\u001b[39m\u001b[38;5;241m.\u001b[39mmulti_class \u001b[38;5;129;01min\u001b[39;00m [\u001b[38;5;124m\"\u001b[39m\u001b[38;5;124mauto\u001b[39m\u001b[38;5;124m\"\u001b[39m, \u001b[38;5;124m\"\u001b[39m\u001b[38;5;124mdeprecated\u001b[39m\u001b[38;5;124m\"\u001b[39m]\n\u001b[0;32m   1425\u001b[0m     \u001b[38;5;129;01mand\u001b[39;00m (\n\u001b[1;32m   (...)\u001b[0m\n\u001b[0;32m   1428\u001b[0m     )\n\u001b[0;32m   1429\u001b[0m )\n\u001b[0;32m   1430\u001b[0m \u001b[38;5;28;01mif\u001b[39;00m ovr:\n\u001b[1;32m-> 1431\u001b[0m     \u001b[38;5;28;01mreturn\u001b[39;00m \u001b[38;5;28;43msuper\u001b[39;49m\u001b[43m(\u001b[49m\u001b[43m)\u001b[49m\u001b[38;5;241;43m.\u001b[39;49m\u001b[43m_predict_proba_lr\u001b[49m\u001b[43m(\u001b[49m\u001b[43mX\u001b[49m\u001b[43m)\u001b[49m\n\u001b[0;32m   1432\u001b[0m \u001b[38;5;28;01melse\u001b[39;00m:\n\u001b[0;32m   1433\u001b[0m     decision \u001b[38;5;241m=\u001b[39m \u001b[38;5;28mself\u001b[39m\u001b[38;5;241m.\u001b[39mdecision_function(X)\n",
      "File \u001b[1;32mD:\\Projects\\Github Repo\\Predictive-Analytics-for-a-Betting-Gaming-Platform\\laminavenv\\Lib\\site-packages\\sklearn\\linear_model\\_base.py:397\u001b[0m, in \u001b[0;36mLinearClassifierMixin._predict_proba_lr\u001b[1;34m(self, X)\u001b[0m\n\u001b[0;32m    390\u001b[0m \u001b[38;5;28;01mdef\u001b[39;00m \u001b[38;5;21m_predict_proba_lr\u001b[39m(\u001b[38;5;28mself\u001b[39m, X):\n\u001b[0;32m    391\u001b[0m \u001b[38;5;250m    \u001b[39m\u001b[38;5;124;03m\"\"\"Probability estimation for OvR logistic regression.\u001b[39;00m\n\u001b[0;32m    392\u001b[0m \n\u001b[0;32m    393\u001b[0m \u001b[38;5;124;03m    Positive class probabilities are computed as\u001b[39;00m\n\u001b[0;32m    394\u001b[0m \u001b[38;5;124;03m    1. / (1. + np.exp(-self.decision_function(X)));\u001b[39;00m\n\u001b[0;32m    395\u001b[0m \u001b[38;5;124;03m    multiclass is handled by normalizing that over all classes.\u001b[39;00m\n\u001b[0;32m    396\u001b[0m \u001b[38;5;124;03m    \"\"\"\u001b[39;00m\n\u001b[1;32m--> 397\u001b[0m     prob \u001b[38;5;241m=\u001b[39m \u001b[38;5;28;43mself\u001b[39;49m\u001b[38;5;241;43m.\u001b[39;49m\u001b[43mdecision_function\u001b[49m\u001b[43m(\u001b[49m\u001b[43mX\u001b[49m\u001b[43m)\u001b[49m\n\u001b[0;32m    398\u001b[0m     expit(prob, out\u001b[38;5;241m=\u001b[39mprob)\n\u001b[0;32m    399\u001b[0m     \u001b[38;5;28;01mif\u001b[39;00m prob\u001b[38;5;241m.\u001b[39mndim \u001b[38;5;241m==\u001b[39m \u001b[38;5;241m1\u001b[39m:\n",
      "File \u001b[1;32mD:\\Projects\\Github Repo\\Predictive-Analytics-for-a-Betting-Gaming-Platform\\laminavenv\\Lib\\site-packages\\sklearn\\linear_model\\_base.py:363\u001b[0m, in \u001b[0;36mLinearClassifierMixin.decision_function\u001b[1;34m(self, X)\u001b[0m\n\u001b[0;32m    360\u001b[0m check_is_fitted(\u001b[38;5;28mself\u001b[39m)\n\u001b[0;32m    361\u001b[0m xp, _ \u001b[38;5;241m=\u001b[39m get_namespace(X)\n\u001b[1;32m--> 363\u001b[0m X \u001b[38;5;241m=\u001b[39m \u001b[38;5;28;43mself\u001b[39;49m\u001b[38;5;241;43m.\u001b[39;49m\u001b[43m_validate_data\u001b[49m\u001b[43m(\u001b[49m\u001b[43mX\u001b[49m\u001b[43m,\u001b[49m\u001b[43m \u001b[49m\u001b[43maccept_sparse\u001b[49m\u001b[38;5;241;43m=\u001b[39;49m\u001b[38;5;124;43m\"\u001b[39;49m\u001b[38;5;124;43mcsr\u001b[39;49m\u001b[38;5;124;43m\"\u001b[39;49m\u001b[43m,\u001b[49m\u001b[43m \u001b[49m\u001b[43mreset\u001b[49m\u001b[38;5;241;43m=\u001b[39;49m\u001b[38;5;28;43;01mFalse\u001b[39;49;00m\u001b[43m)\u001b[49m\n\u001b[0;32m    364\u001b[0m scores \u001b[38;5;241m=\u001b[39m safe_sparse_dot(X, \u001b[38;5;28mself\u001b[39m\u001b[38;5;241m.\u001b[39mcoef_\u001b[38;5;241m.\u001b[39mT, dense_output\u001b[38;5;241m=\u001b[39m\u001b[38;5;28;01mTrue\u001b[39;00m) \u001b[38;5;241m+\u001b[39m \u001b[38;5;28mself\u001b[39m\u001b[38;5;241m.\u001b[39mintercept_\n\u001b[0;32m    365\u001b[0m \u001b[38;5;28;01mreturn\u001b[39;00m xp\u001b[38;5;241m.\u001b[39mreshape(scores, (\u001b[38;5;241m-\u001b[39m\u001b[38;5;241m1\u001b[39m,)) \u001b[38;5;28;01mif\u001b[39;00m scores\u001b[38;5;241m.\u001b[39mshape[\u001b[38;5;241m1\u001b[39m] \u001b[38;5;241m==\u001b[39m \u001b[38;5;241m1\u001b[39m \u001b[38;5;28;01melse\u001b[39;00m scores\n",
      "File \u001b[1;32mD:\\Projects\\Github Repo\\Predictive-Analytics-for-a-Betting-Gaming-Platform\\laminavenv\\Lib\\site-packages\\sklearn\\base.py:608\u001b[0m, in \u001b[0;36mBaseEstimator._validate_data\u001b[1;34m(self, X, y, reset, validate_separately, cast_to_ndarray, **check_params)\u001b[0m\n\u001b[0;32m    537\u001b[0m \u001b[38;5;28;01mdef\u001b[39;00m \u001b[38;5;21m_validate_data\u001b[39m(\n\u001b[0;32m    538\u001b[0m     \u001b[38;5;28mself\u001b[39m,\n\u001b[0;32m    539\u001b[0m     X\u001b[38;5;241m=\u001b[39m\u001b[38;5;124m\"\u001b[39m\u001b[38;5;124mno_validation\u001b[39m\u001b[38;5;124m\"\u001b[39m,\n\u001b[1;32m   (...)\u001b[0m\n\u001b[0;32m    544\u001b[0m     \u001b[38;5;241m*\u001b[39m\u001b[38;5;241m*\u001b[39mcheck_params,\n\u001b[0;32m    545\u001b[0m ):\n\u001b[0;32m    546\u001b[0m \u001b[38;5;250m    \u001b[39m\u001b[38;5;124;03m\"\"\"Validate input data and set or check the `n_features_in_` attribute.\u001b[39;00m\n\u001b[0;32m    547\u001b[0m \n\u001b[0;32m    548\u001b[0m \u001b[38;5;124;03m    Parameters\u001b[39;00m\n\u001b[1;32m   (...)\u001b[0m\n\u001b[0;32m    606\u001b[0m \u001b[38;5;124;03m        validated.\u001b[39;00m\n\u001b[0;32m    607\u001b[0m \u001b[38;5;124;03m    \"\"\"\u001b[39;00m\n\u001b[1;32m--> 608\u001b[0m     \u001b[38;5;28;43mself\u001b[39;49m\u001b[38;5;241;43m.\u001b[39;49m\u001b[43m_check_feature_names\u001b[49m\u001b[43m(\u001b[49m\u001b[43mX\u001b[49m\u001b[43m,\u001b[49m\u001b[43m \u001b[49m\u001b[43mreset\u001b[49m\u001b[38;5;241;43m=\u001b[39;49m\u001b[43mreset\u001b[49m\u001b[43m)\u001b[49m\n\u001b[0;32m    610\u001b[0m     \u001b[38;5;28;01mif\u001b[39;00m y \u001b[38;5;129;01mis\u001b[39;00m \u001b[38;5;28;01mNone\u001b[39;00m \u001b[38;5;129;01mand\u001b[39;00m \u001b[38;5;28mself\u001b[39m\u001b[38;5;241m.\u001b[39m_get_tags()[\u001b[38;5;124m\"\u001b[39m\u001b[38;5;124mrequires_y\u001b[39m\u001b[38;5;124m\"\u001b[39m]:\n\u001b[0;32m    611\u001b[0m         \u001b[38;5;28;01mraise\u001b[39;00m \u001b[38;5;167;01mValueError\u001b[39;00m(\n\u001b[0;32m    612\u001b[0m             \u001b[38;5;124mf\u001b[39m\u001b[38;5;124m\"\u001b[39m\u001b[38;5;124mThis \u001b[39m\u001b[38;5;132;01m{\u001b[39;00m\u001b[38;5;28mself\u001b[39m\u001b[38;5;241m.\u001b[39m\u001b[38;5;18m__class__\u001b[39m\u001b[38;5;241m.\u001b[39m\u001b[38;5;18m__name__\u001b[39m\u001b[38;5;132;01m}\u001b[39;00m\u001b[38;5;124m estimator \u001b[39m\u001b[38;5;124m\"\u001b[39m\n\u001b[0;32m    613\u001b[0m             \u001b[38;5;124m\"\u001b[39m\u001b[38;5;124mrequires y to be passed, but the target y is None.\u001b[39m\u001b[38;5;124m\"\u001b[39m\n\u001b[0;32m    614\u001b[0m         )\n",
      "File \u001b[1;32mD:\\Projects\\Github Repo\\Predictive-Analytics-for-a-Betting-Gaming-Platform\\laminavenv\\Lib\\site-packages\\sklearn\\base.py:535\u001b[0m, in \u001b[0;36mBaseEstimator._check_feature_names\u001b[1;34m(self, X, reset)\u001b[0m\n\u001b[0;32m    530\u001b[0m \u001b[38;5;28;01mif\u001b[39;00m \u001b[38;5;129;01mnot\u001b[39;00m missing_names \u001b[38;5;129;01mand\u001b[39;00m \u001b[38;5;129;01mnot\u001b[39;00m unexpected_names:\n\u001b[0;32m    531\u001b[0m     message \u001b[38;5;241m+\u001b[39m\u001b[38;5;241m=\u001b[39m (\n\u001b[0;32m    532\u001b[0m         \u001b[38;5;124m\"\u001b[39m\u001b[38;5;124mFeature names must be in the same order as they were in fit.\u001b[39m\u001b[38;5;130;01m\\n\u001b[39;00m\u001b[38;5;124m\"\u001b[39m\n\u001b[0;32m    533\u001b[0m     )\n\u001b[1;32m--> 535\u001b[0m \u001b[38;5;28;01mraise\u001b[39;00m \u001b[38;5;167;01mValueError\u001b[39;00m(message)\n",
      "\u001b[1;31mValueError\u001b[0m: The feature names should match those that were passed during fit.\nFeature names unseen at fit time:\n- AST_TOV_RATIO_AWAY\n- AST_TOV_RATIO_HOME\nFeature names seen at fit time, yet now missing:\n- DREB_AWAY\n- DREB_HOME\n- Defensive_Efficiency_AWAY\n- Defensive_Efficiency_HOME\n"
     ]
    }
   ],
   "source": [
    "# Generate predictions using the model on the test data\n",
    "predicted_probabilities = log_model.predict_proba(X_test)[:, 1]  # Get probabilities for the positive class"
   ]
  },
  {
   "cell_type": "code",
   "execution_count": 8,
   "id": "9fcd75bf-a763-4887-be5b-631ad350bb91",
   "metadata": {},
   "outputs": [],
   "source": [
    "# Combine predictions and actual outcomes into a DataFrame\n",
    "df = pd.DataFrame({\n",
    "    'predicted_prob': predicted_probabilities,  # Model's predicted probabilities\n",
    "    'actual_result': y_test  # Actual outcomes from y_test\n",
    "})"
   ]
  },
  {
   "cell_type": "code",
   "execution_count": 9,
   "id": "e843c2e9-6de5-4820-9ef5-5e73d0ac0bb1",
   "metadata": {},
   "outputs": [
    {
     "name": "stdout",
     "output_type": "stream",
     "text": [
      "Low-Risk Success Rate: 51.33%\n",
      "Low-Risk Profitability: 1718\n",
      "High-Risk Success Rate: 1.02%\n",
      "High-Risk Profitability: -1114\n"
     ]
    }
   ],
   "source": [
    "# Function to simulate betting based on model predictions\n",
    "def evaluate_bets(predictions, actual_outcomes, risk_type='low', cutoff=0.7):\n",
    "    outcomes = []\n",
    "    \n",
    "    if risk_type == 'low':\n",
    "        # For low-risk bets, focus on high-confidence predictions\n",
    "        selected_bets = predictions > cutoff\n",
    "    else:\n",
    "        # For high-risk bets, focus on low-confidence predictions\n",
    "        selected_bets = predictions < (1 - cutoff)\n",
    "    \n",
    "    for bet, outcome in zip(selected_bets, actual_outcomes):\n",
    "        if bet:\n",
    "            # Win if the prediction is correct\n",
    "            if outcome == 1:\n",
    "                outcomes.append(1)  # Bet won\n",
    "            else:\n",
    "                outcomes.append(-1)  # Bet lost\n",
    "        else:\n",
    "            outcomes.append(0)  # No bet placed\n",
    "    \n",
    "    return np.array(outcomes)\n",
    "\n",
    "# Evaluate low-risk betting scenario\n",
    "low_risk_outcomes = evaluate_bets(df['predicted_prob'], df['actual_result'], risk_type='low', cutoff=0.7)\n",
    "# Evaluate high-risk betting scenario\n",
    "high_risk_outcomes = evaluate_bets(df['predicted_prob'], df['actual_result'], risk_type='high', cutoff=0.7)\n",
    "\n",
    "# Calculate success rates and profitability\n",
    "low_risk_success = np.mean(low_risk_outcomes > 0)\n",
    "high_risk_success = np.mean(high_risk_outcomes > 0)\n",
    "\n",
    "low_risk_profit = np.sum(low_risk_outcomes)\n",
    "high_risk_profit = np.sum(high_risk_outcomes)\n",
    "\n",
    "print(f\"Low-Risk Success Rate: {low_risk_success * 100:.2f}%\")\n",
    "print(f\"Low-Risk Profitability: {low_risk_profit}\")\n",
    "\n",
    "print(f\"High-Risk Success Rate: {high_risk_success * 100:.2f}%\")\n",
    "print(f\"High-Risk Profitability: {high_risk_profit}\")"
   ]
  },
  {
   "cell_type": "code",
   "execution_count": null,
   "id": "960774aa-1bde-439d-96b7-b37cc3e5f57a",
   "metadata": {},
   "outputs": [],
   "source": []
  }
 ],
 "metadata": {
  "kernelspec": {
   "display_name": "Lamina Kernel",
   "language": "python",
   "name": "laminakernel"
  },
  "language_info": {
   "codemirror_mode": {
    "name": "ipython",
    "version": 3
   },
   "file_extension": ".py",
   "mimetype": "text/x-python",
   "name": "python",
   "nbconvert_exporter": "python",
   "pygments_lexer": "ipython3",
   "version": "3.11.6"
  }
 },
 "nbformat": 4,
 "nbformat_minor": 5
}
