{
 "cells": [
  {
   "cell_type": "code",
   "execution_count": 1,
   "id": "0b44b7cf-07d1-4d90-b160-11d4a624388e",
   "metadata": {},
   "outputs": [],
   "source": [
    "import numpy as np\n",
    "import pandas as pd\n",
    "import joblib"
   ]
  },
  {
   "cell_type": "code",
   "execution_count": 2,
   "id": "d66f1bcd-13ab-429a-bd23-98b8e70bb529",
   "metadata": {},
   "outputs": [],
   "source": [
    "# Load the saved splits\n",
    "X_test = joblib.load('X_test.pkl')\n",
    "y_test = joblib.load('y_test.pkl')"
   ]
  },
  {
   "cell_type": "code",
   "execution_count": 3,
   "id": "88ad7fde-3e81-43b5-b807-45e3880a7a42",
   "metadata": {},
   "outputs": [
    {
     "data": {
      "text/plain": [
       "<bound method NDFrame.head of        HomeWinStreak  AwayWinStreak  EFG_AWAY  EFG_HOME  FG_PCT_HOME  \\\n",
       "15073              3              0  0.390110  0.558442        0.506   \n",
       "4338               3              0  0.459302  0.575000        0.525   \n",
       "1981               0              1  0.458333  0.563830        0.521   \n",
       "9119               0              2  0.608434  0.673077        0.603   \n",
       "5562               0              0  0.614943  0.613333        0.547   \n",
       "...              ...            ...       ...       ...          ...   \n",
       "10057              0              0  0.494565  0.726744        0.651   \n",
       "1740               1              1  0.511494  0.506098        0.439   \n",
       "1957               1              0  0.434783  0.483516        0.462   \n",
       "16635              1              0  0.500000  0.421053        0.368   \n",
       "11505              1              0  0.415730  0.488636        0.466   \n",
       "\n",
       "       FG_PCT_AWAY  HomeSpread_AtClose  AwayML_Prob  HomeML_Prob  \\\n",
       "15073        0.363               -11.0     0.098302     0.993907   \n",
       "4338         0.419                -1.0     0.492805     0.785027   \n",
       "1981         0.405                -1.0     0.500000     0.780130   \n",
       "9119         0.518                 0.0     0.770097     0.770097   \n",
       "5562         0.552                -4.0     0.428537     0.833662   \n",
       "...            ...                 ...          ...          ...   \n",
       "10057        0.435                -9.5     0.133443     0.976836   \n",
       "1740         0.460                 1.0     0.780130     0.500000   \n",
       "1957         0.402                -7.0     0.308764     0.904220   \n",
       "16635        0.451                -3.5     0.456934     0.808318   \n",
       "11505        0.382                -5.0     0.393712     0.856252   \n",
       "\n",
       "       FG3_PCT_HOME  ...  AST_HOME  AST_AWAY  NetRtg_Home  NetRtg_Away  \\\n",
       "15073         0.364  ...      28.0      15.0    10.250955   -10.250955   \n",
       "4338          0.333  ...      24.0      20.0    10.952642   -10.952642   \n",
       "1981          0.421  ...      28.0      17.0     7.035532    -7.035532   \n",
       "9119          0.524  ...      30.0      26.0     0.951787    -0.951787   \n",
       "5562          0.500  ...      26.0      30.0    -7.225863     7.225863   \n",
       "...             ...  ...       ...       ...          ...          ...   \n",
       "10057         0.464  ...      41.0      31.0     9.476008    -9.476008   \n",
       "1740          0.440  ...      21.0      21.0    -5.220802     5.220802   \n",
       "1957          0.190  ...      29.0      21.0    -2.563485     2.563485   \n",
       "16635         0.345  ...      18.0      25.0     2.447880    -2.447880   \n",
       "11505         0.235  ...      17.0      14.0    -2.194740     2.194740   \n",
       "\n",
       "       Defensive_Efficiency_HOME  Defensive_Efficiency_AWAY  DREB_HOME  \\\n",
       "15073                   1.680851                   2.090909       42.0   \n",
       "4338                    2.272727                   3.135135       35.0   \n",
       "1981                    1.880000                   3.444444       38.0   \n",
       "9119                    3.194444                   3.806452       29.0   \n",
       "5562                    3.741935                   2.972222       29.0   \n",
       "...                          ...                        ...        ...   \n",
       "10057                   2.534884                   4.363636       38.0   \n",
       "1740                    2.829268                   2.169811       32.0   \n",
       "1957                    1.833333                   2.100000       36.0   \n",
       "16635                   2.096154                   2.183673       33.0   \n",
       "11505                   1.872340                   2.304348       34.0   \n",
       "\n",
       "       DREB_AWAY  Home_PTS_RollAvg  Away_PTS_RollAvg  \n",
       "15073       32.0              92.6              85.2  \n",
       "4338        25.0             115.6             105.0  \n",
       "1981        28.0             103.6              96.2  \n",
       "9119        24.0             110.8             107.4  \n",
       "5562        29.0              95.6             104.6  \n",
       "...          ...               ...               ...  \n",
       "10057       23.0             105.4              98.8  \n",
       "1740        38.0              99.6             106.2  \n",
       "1957        39.0              89.6              95.6  \n",
       "16635       35.0             100.6             101.2  \n",
       "11505       30.0              98.2             102.2  \n",
       "\n",
       "[3423 rows x 21 columns]>"
      ]
     },
     "execution_count": 3,
     "metadata": {},
     "output_type": "execute_result"
    }
   ],
   "source": [
    "X_test.head"
   ]
  },
  {
   "cell_type": "code",
   "execution_count": 4,
   "id": "61ef555f-ce4e-403f-8cd0-f244434dba4b",
   "metadata": {},
   "outputs": [
    {
     "data": {
      "text/plain": [
       "<bound method NDFrame.head of 15073    1\n",
       "4338     1\n",
       "1981     1\n",
       "9119     1\n",
       "5562     0\n",
       "        ..\n",
       "10057    1\n",
       "1740     0\n",
       "1957     1\n",
       "16635    0\n",
       "11505    1\n",
       "Name: HomeWin, Length: 3423, dtype: int64>"
      ]
     },
     "execution_count": 4,
     "metadata": {},
     "output_type": "execute_result"
    }
   ],
   "source": [
    "y_test.head"
   ]
  },
  {
   "cell_type": "code",
   "execution_count": 5,
   "id": "c85be6a7-4983-4571-879e-729868860e67",
   "metadata": {},
   "outputs": [],
   "source": [
    "# Load the saved logistic regression model\n",
    "log_model = joblib.load('logistic_regression_model.pkl')"
   ]
  },
  {
   "cell_type": "code",
   "execution_count": 6,
   "id": "b2831e16-3633-4295-afa2-1f581f960d80",
   "metadata": {},
   "outputs": [],
   "source": [
    "# Generate predictions using the model on the test data\n",
    "predicted_probabilities = log_model.predict_proba(X_test)[:, 1]  # Get probabilities for the positive class"
   ]
  },
  {
   "cell_type": "code",
   "execution_count": 7,
   "id": "9fcd75bf-a763-4887-be5b-631ad350bb91",
   "metadata": {},
   "outputs": [],
   "source": [
    "# Combine predictions and actual outcomes into a DataFrame\n",
    "df = pd.DataFrame({\n",
    "    'predicted_prob': predicted_probabilities,  # Model's predicted probabilities\n",
    "    'actual_result': y_test  # Actual outcomes from y_test\n",
    "})"
   ]
  },
  {
   "cell_type": "code",
   "execution_count": 29,
   "id": "e843c2e9-6de5-4820-9ef5-5e73d0ac0bb1",
   "metadata": {},
   "outputs": [
    {
     "name": "stdout",
     "output_type": "stream",
     "text": [
      "Low-Risk Success Rate: 95.41%\n",
      "Low-Risk Profitability: 1623\n",
      "High-Risk Success Rate: 5.14%\n",
      "High-Risk Profitability: -1013\n",
      "Number of Low-Risk Bets: 1787\n",
      "Number of High-Risk Bets: 1129\n",
      "Number of Low-Risk Wins: 1705\n",
      "Number of High-Risk Wins: 58\n"
     ]
    }
   ],
   "source": [
    "# Function to simulate betting based on model predictions\n",
    "def evaluate_bets(predictions, actual_outcomes, risk_type='low', cutoff=0.7):\n",
    "    outcomes = []\n",
    "    \n",
    "    if risk_type == 'low':\n",
    "        # For low-risk bets, focus on high-confidence predictions\n",
    "        selected_bets = predictions > cutoff\n",
    "    else:\n",
    "        # For high-risk bets, focus on low-confidence predictions\n",
    "        selected_bets = predictions < (1 - cutoff)\n",
    "    \n",
    "    for bet, outcome in zip(selected_bets, actual_outcomes):\n",
    "        if bet:\n",
    "            # Win if the prediction is correct\n",
    "            if outcome == 1:\n",
    "                outcomes.append(1)  # Bet won\n",
    "            else:\n",
    "                outcomes.append(-1)  # Bet lost\n",
    "        else:\n",
    "            outcomes.append(0)  # No bet placed\n",
    "    \n",
    "    return np.array(outcomes)\n",
    "\n",
    "# Evaluate low-risk betting scenario\n",
    "low_risk_outcomes = evaluate_bets(df['predicted_prob'], df['actual_result'], risk_type='low', cutoff=0.7)\n",
    "# Evaluate high-risk betting scenario\n",
    "high_risk_outcomes = evaluate_bets(df['predicted_prob'], df['actual_result'], risk_type='high', cutoff=0.7)\n",
    "\n",
    "# Count the number of bets for low-risk and high-risk scenarios\n",
    "low_risk_bets = np.count_nonzero(low_risk_outcomes != 0)\n",
    "high_risk_bets = np.count_nonzero(high_risk_outcomes != 0)\n",
    "\n",
    "# Count the number of wins for low-risk and high-risk scenarios\n",
    "low_risk_wins = np.count_nonzero(low_risk_outcomes == 1)\n",
    "high_risk_wins = np.count_nonzero(high_risk_outcomes == 1)\n",
    "\n",
    "# Calculate success rates as Wins / Number of Bets\n",
    "low_risk_success = low_risk_wins / low_risk_bets if low_risk_bets > 0 else 0\n",
    "high_risk_success = high_risk_wins / high_risk_bets if high_risk_bets > 0 else 0\n",
    "\n",
    "# Calculate profitability\n",
    "low_risk_profit = np.sum(low_risk_outcomes)\n",
    "high_risk_profit = np.sum(high_risk_outcomes)\n",
    "\n",
    "print(f\"Low-Risk Success Rate: {low_risk_success * 100:.2f}%\")\n",
    "print(f\"Low-Risk Profitability: {low_risk_profit}\")\n",
    "\n",
    "print(f\"High-Risk Success Rate: {high_risk_success * 100:.2f}%\")\n",
    "print(f\"High-Risk Profitability: {high_risk_profit}\")\n",
    "\n",
    "print(f\"Number of Low-Risk Bets: {low_risk_bets}\")\n",
    "print(f\"Number of High-Risk Bets: {high_risk_bets}\")\n",
    "\n",
    "print(f\"Number of Low-Risk Wins: {low_risk_wins}\")\n",
    "print(f\"Number of High-Risk Wins: {high_risk_wins}\")"
   ]
  },
  {
   "cell_type": "code",
   "execution_count": null,
   "id": "052c98f8-d575-4c92-9fea-945046bf0814",
   "metadata": {},
   "outputs": [],
   "source": []
  }
 ],
 "metadata": {
  "kernelspec": {
   "display_name": "Lamina Kernel",
   "language": "python",
   "name": "laminakernel"
  },
  "language_info": {
   "codemirror_mode": {
    "name": "ipython",
    "version": 3
   },
   "file_extension": ".py",
   "mimetype": "text/x-python",
   "name": "python",
   "nbconvert_exporter": "python",
   "pygments_lexer": "ipython3",
   "version": "3.11.6"
  }
 },
 "nbformat": 4,
 "nbformat_minor": 5
}
