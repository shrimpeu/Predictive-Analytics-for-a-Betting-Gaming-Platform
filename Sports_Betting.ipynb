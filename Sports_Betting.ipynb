{
 "cells": [
  {
   "cell_type": "markdown",
   "metadata": {},
   "source": [
    "# Sports Betting Data Analysis\n",
    "\n",
    "## Introduction\n",
    "This notebook aims to analyze historical game statistics and betting odds data to develop predictive models for sports betting. The dataset consists of game statistics and betting odds, which we will preprocess and engineer to create meaningful features for analysis."
   ]
  },
  {
   "cell_type": "markdown",
   "metadata": {},
   "source": [
    "## Import Libraries"
   ]
  },
  {
   "cell_type": "code",
   "execution_count": null,
   "metadata": {},
   "outputs": [],
   "source": [
    "import pandas as pd \n",
    "import numpy as np "
   ]
  },
  {
   "cell_type": "markdown",
   "metadata": {},
   "source": [
    "## Load Datasets\n",
    "We begin by loading the game statistics and betting odds datasets into Pandas DataFrames."
   ]
  },
  {
   "cell_type": "code",
   "execution_count": null,
   "metadata": {},
   "outputs": [],
   "source": [
    "game_stats_path = 'datasets/Game.csv'\n",
    "betting_odds_path = 'datasets/BettingOdds_History.csv'\n",
    "\n",
    "game_stats = pd.read_csv(game_stats_path)\n",
    "betting_odds = pd.read_csv(betting_odds_path)"
   ]
  },
  {
   "cell_type": "markdown",
   "metadata": {},
   "source": [
    "## Preprocessing and Cleaning\n",
    "\n",
    "### Handling Missing Values in Game Statistics Data\n",
    "\n",
    "We begin by handling missing values in the game statistics dataset. Rows with missing `GAME_ID` are removed. For numeric columns, missing values are filled with the column mean. Rows with more than 20% missing data are also removed."
   ]
  },
  {
   "cell_type": "code",
   "execution_count": null,
   "metadata": {},
   "outputs": [],
   "source": [
    "# Handle missing values in game stats data\n",
    "game_stats.dropna(subset=['GAME_ID'], inplace=True)"
   ]
  },
  {
   "cell_type": "code",
   "execution_count": null,
   "metadata": {},
   "outputs": [],
   "source": [
    "# Fill missing numeric data with mean or placeholder value\n",
    "numeric_cols = game_stats.select_dtypes(include=[np.number]).columns\n",
    "game_stats[numeric_cols] = game_stats[numeric_cols].fillna(game_stats[numeric_cols].mean())"
   ]
  },
  {
   "cell_type": "code",
   "execution_count": null,
   "metadata": {},
   "outputs": [],
   "source": [
    "game_stats.dropna(thresh=int(0.8 * len(game_stats.columns)), inplace=True)"
   ]
  },
  {
   "cell_type": "markdown",
   "metadata": {},
   "source": [
    "### Handling Missing Values in Betting Odds Data\n",
    "\n",
    "Similarly, we handle missing values in the betting odds dataset. Rows with missing `GAME_ID` are removed, and numeric columns are filled with their mean. Additionally, rows with missing values in key columns like `HomeSpread_AtClose` and `HomeML` are removed."
   ]
  },
  {
   "cell_type": "code",
   "execution_count": null,
   "metadata": {},
   "outputs": [],
   "source": [
    "# Handle missing values in betting odds data\n",
    "betting_odds.dropna(subset=['GAME_ID'], inplace=True)"
   ]
  },
  {
   "cell_type": "code",
   "execution_count": null,
   "metadata": {},
   "outputs": [],
   "source": [
    "# Fill missing numeric data with mean\n",
    "betting_numeric_cols = betting_odds.select_dtypes(include=[np.number]).columns\n",
    "betting_odds[betting_numeric_cols] = betting_odds[betting_numeric_cols].fillna(betting_odds[betting_numeric_cols].mean())"
   ]
  },
  {
   "cell_type": "code",
   "execution_count": null,
   "metadata": {},
   "outputs": [],
   "source": [
    "betting_odds.dropna(subset=['HomeSpread_AtClose', 'HomeML'], inplace=True)"
   ]
  },
  {
   "cell_type": "markdown",
   "metadata": {},
   "source": [
    "### Merging the Datasets\n",
    "\n",
    "We merge the cleaned game statistics and betting odds datasets on the `GAME_ID` column."
   ]
  },
  {
   "cell_type": "code",
   "execution_count": null,
   "metadata": {},
   "outputs": [],
   "source": [
    "# Merge the two dataframes on the common 'GAME_ID' column\n",
    "merged_df = pd.merge(game_stats, betting_odds, on='GAME_ID')"
   ]
  }
 ],
 "metadata": {
  "language_info": {
   "name": "python"
  }
 },
 "nbformat": 4,
 "nbformat_minor": 2
}
