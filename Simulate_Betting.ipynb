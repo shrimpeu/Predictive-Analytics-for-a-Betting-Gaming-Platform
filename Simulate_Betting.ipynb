{
 "cells": [
  {
   "cell_type": "code",
   "execution_count": 1,
   "id": "0b44b7cf-07d1-4d90-b160-11d4a624388e",
   "metadata": {},
   "outputs": [],
   "source": [
    "import numpy as np\n",
    "import pandas as pd\n",
    "import joblib"
   ]
  },
  {
   "cell_type": "code",
   "execution_count": 3,
   "id": "c85be6a7-4983-4571-879e-729868860e67",
   "metadata": {},
   "outputs": [],
   "source": [
    "# Load the saved logistic regression model\n",
    "log_model = joblib.load('logistic_regression_model.pkl')"
   ]
  },
  {
   "cell_type": "code",
   "execution_count": 4,
   "id": "e843c2e9-6de5-4820-9ef5-5e73d0ac0bb1",
   "metadata": {},
   "outputs": [
    {
     "name": "stdout",
     "output_type": "stream",
     "text": [
      "Low-Risk Success Rate: 42.86%\n",
      "Low-Risk Profitability: 3\n",
      "High-Risk Success Rate: 14.29%\n",
      "High-Risk Profitability: 0\n"
     ]
    }
   ],
   "source": [
    "# Function to simulate betting based on model predictions\n",
    "def evaluate_bets(predictions, actual_outcomes, risk_type='low', cutoff=0.7):\n",
    "    outcomes = []\n",
    "    \n",
    "    if risk_type == 'low':\n",
    "        # For low-risk bets, focus on high-confidence predictions\n",
    "        selected_bets = predictions > cutoff\n",
    "    else:\n",
    "        # For high-risk bets, focus on low-confidence predictions\n",
    "        selected_bets = predictions < (1 - cutoff)\n",
    "    \n",
    "    for bet, outcome in zip(selected_bets, actual_outcomes):\n",
    "        if bet:\n",
    "            # Win if the prediction is correct\n",
    "            if outcome == 1:\n",
    "                outcomes.append(1)  # Bet won\n",
    "            else:\n",
    "                outcomes.append(-1)  # Bet lost\n",
    "        else:\n",
    "            outcomes.append(0)  # No bet placed\n",
    "    \n",
    "    return np.array(outcomes)\n",
    "\n",
    "# Assuming df contains your test set predictions and actual outcomes\n",
    "# Example DataFrame with model probabilities and actual outcomes\n",
    "df = pd.DataFrame({\n",
    "    'predicted_prob': [0.85, 0.65, 0.30, 0.55, 0.75, 0.20, 0.90],  # Replace with your actual probabilities\n",
    "    'actual_result': [1, 0, 1, 1, 1, 0, 1]  # Replace with your actual outcomes\n",
    "})\n",
    "\n",
    "# Evaluate low-risk betting scenario\n",
    "low_risk_outcomes = evaluate_bets(df['predicted_prob'], df['actual_result'], risk_type='low', cutoff=0.7)\n",
    "# Evaluate high-risk betting scenario\n",
    "high_risk_outcomes = evaluate_bets(df['predicted_prob'], df['actual_result'], risk_type='high', cutoff=0.7)\n",
    "\n",
    "# Calculate success rates and profitability\n",
    "low_risk_success = np.mean(low_risk_outcomes > 0)\n",
    "high_risk_success = np.mean(high_risk_outcomes > 0)\n",
    "\n",
    "low_risk_profit = np.sum(low_risk_outcomes)\n",
    "high_risk_profit = np.sum(high_risk_outcomes)\n",
    "\n",
    "print(f\"Low-Risk Success Rate: {low_risk_success * 100:.2f}%\")\n",
    "print(f\"Low-Risk Profitability: {low_risk_profit}\")\n",
    "\n",
    "print(f\"High-Risk Success Rate: {high_risk_success * 100:.2f}%\")\n",
    "print(f\"High-Risk Profitability: {high_risk_profit}\")"
   ]
  },
  {
   "cell_type": "code",
   "execution_count": null,
   "id": "960774aa-1bde-439d-96b7-b37cc3e5f57a",
   "metadata": {},
   "outputs": [],
   "source": []
  }
 ],
 "metadata": {
  "kernelspec": {
   "display_name": "Lamina Kernel",
   "language": "python",
   "name": "laminakernel"
  },
  "language_info": {
   "codemirror_mode": {
    "name": "ipython",
    "version": 3
   },
   "file_extension": ".py",
   "mimetype": "text/x-python",
   "name": "python",
   "nbconvert_exporter": "python",
   "pygments_lexer": "ipython3",
   "version": "3.11.6"
  }
 },
 "nbformat": 4,
 "nbformat_minor": 5
}
